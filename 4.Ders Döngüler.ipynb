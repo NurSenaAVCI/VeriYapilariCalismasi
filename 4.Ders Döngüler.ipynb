{
  "nbformat": 4,
  "nbformat_minor": 0,
  "metadata": {
    "colab": {
      "provenance": []
    },
    "kernelspec": {
      "name": "python3",
      "display_name": "Python 3"
    },
    "language_info": {
      "name": "python"
    }
  },
  "cells": [
    {
      "cell_type": "markdown",
      "source": [
        "PYTHON Döngü Yapıları\n",
        "\n",
        "Döngüler, belirli bir kod bölümünün birden fazla çalıştırmamıza olanak tanır. Döngüler, genellikle yazılımda tekrar eden işlemler için kullanılır.\n",
        "\n"
      ],
      "metadata": {
        "id": "B1wpKVfYFS8e"
      }
    },
    {
      "cell_type": "markdown",
      "source": [
        "Döngü Türleri:\n",
        "\n",
        "1.for Döngüsü--> Belirli bir sıralama üzerinde iterasyon yapmak için kullanılır. Genellikle bir liste, dizi veya range fonksiyonu ile kullanılır.\n",
        "\n",
        "2.while Döngüsü--> Belirli bir koşul doğru olduğu sürece kod bloğunu çalıştırır."
      ],
      "metadata": {
        "id": "JW_9BMl0FZam"
      }
    },
    {
      "cell_type": "markdown",
      "source": [
        "Döngü Kontrol Yapıları:\n",
        "\n",
        " 1.break--> Döngüyü tamamen sonlandırır.\n",
        "\n",
        " 2.continue--> Döngünün o anki tekrarı-iterasyonunu sonlandırır ve bir sonraki tekrara-iterasyona geçer."
      ],
      "metadata": {
        "id": "IzE9z36YFcTp"
      }
    },
    {
      "cell_type": "markdown",
      "source": [
        "Döngü İçinde Döngü (İç İçe Döngüler):\n",
        "\n",
        "1.İç İçe for Döngüsü\n",
        "\n",
        "2.İç İçe while Döngüsü"
      ],
      "metadata": {
        "id": "oRBOuq1RFtN1"
      }
    },
    {
      "cell_type": "code",
      "source": [
        "# for döngüsü örneği: 0'dan 4'e kadar olan sayıları yazdırılması işlemidir.\n",
        "for i in range(5):\n",
        "    print(i)"
      ],
      "metadata": {
        "colab": {
          "base_uri": "https://localhost:8080/"
        },
        "id": "Fi97KJBdKbSw",
        "outputId": "ec12627b-54ec-468d-efcc-f93a842d5137"
      },
      "execution_count": 1,
      "outputs": [
        {
          "output_type": "stream",
          "name": "stdout",
          "text": [
            "0\n",
            "1\n",
            "2\n",
            "3\n",
            "4\n"
          ]
        }
      ]
    },
    {
      "cell_type": "code",
      "source": [
        "# for dönügüsü örneği: alışveriş listesi oluşturma\n",
        "liste = [\"elma\", \"ekmek\", \"süt\", \"peynir\"]\n",
        "\n",
        "for alinacaklar in liste:\n",
        "    print(alinacaklar)"
      ],
      "metadata": {
        "colab": {
          "base_uri": "https://localhost:8080/"
        },
        "id": "mURLYNYWMvDn",
        "outputId": "6e725390-21ea-4b0c-a125-ad2d46a5b263"
      },
      "execution_count": 2,
      "outputs": [
        {
          "output_type": "stream",
          "name": "stdout",
          "text": [
            "elma\n",
            "ekmek\n",
            "süt\n",
            "peynir\n"
          ]
        }
      ]
    },
    {
      "cell_type": "code",
      "source": [
        "# for döngüsü örneği: bir sınıftaki öğrencilerin notlarının ortalamasını hesaplama\n",
        "notlar = [85, 92, 78, 90, 88]\n",
        "\n",
        "toplam = 0\n",
        "for sayi in notlar:\n",
        "    toplam += sayi     # toplam = toplam + sayi\n",
        "\n",
        "ortalama = toplam / len(notlar)\n",
        "\n",
        "print(\"Birinci Print -> Not Ortalaması: \", ortalama)\n",
        "\n",
        "print(f\"İkinci Print -> Not ortalaması : {ortalama}\")"
      ],
      "metadata": {
        "colab": {
          "base_uri": "https://localhost:8080/"
        },
        "id": "zgnIB3IiM7HI",
        "outputId": "2b6310ad-416e-476a-daa3-112c027a19dd"
      },
      "execution_count": 3,
      "outputs": [
        {
          "output_type": "stream",
          "name": "stdout",
          "text": [
            "Birinci Print -> Not Ortalaması:  86.6\n",
            "İkinci Print -> Not ortalaması : 86.6\n"
          ]
        }
      ]
    },
    {
      "cell_type": "code",
      "source": [
        "# while döngüsü örneği: 0'dan 4'e kadar olan sayıları yazdırılması işlemidir.\n",
        "i = 0\n",
        "while i < 5:\n",
        "    print(i)\n",
        "    i += 1"
      ],
      "metadata": {
        "colab": {
          "base_uri": "https://localhost:8080/"
        },
        "id": "z1QIoN9JOuBj",
        "outputId": "326a8e45-06c3-427e-cab2-61afe4428026"
      },
      "execution_count": 4,
      "outputs": [
        {
          "output_type": "stream",
          "name": "stdout",
          "text": [
            "0\n",
            "1\n",
            "2\n",
            "3\n",
            "4\n"
          ]
        }
      ]
    },
    {
      "cell_type": "code",
      "source": [
        "# Kullanıcıdan bir sayı alınması\n",
        "kullanici_girdisi = int(input(\"Bir sayı girin: \"))\n",
        "\n",
        "# 0'dan kullanıcı tarafından girilen sayıya kadar sıralama yapma\n",
        "i = 0\n",
        "while i <= kullanici_girdisi:\n",
        "    print(i)\n",
        "    i += 1"
      ],
      "metadata": {
        "colab": {
          "base_uri": "https://localhost:8080/"
        },
        "id": "5r25zfj2O18z",
        "outputId": "f7b817f5-b093-45a5-993a-ee7614f1c0fd"
      },
      "execution_count": 5,
      "outputs": [
        {
          "output_type": "stream",
          "name": "stdout",
          "text": [
            "Bir sayı girin: 5\n",
            "0\n",
            "1\n",
            "2\n",
            "3\n",
            "4\n",
            "5\n"
          ]
        }
      ]
    },
    {
      "cell_type": "code",
      "source": [
        "# break örneği: 3'e ulaştığında döngü sonlandıran kod blogudur.\n",
        "for i in range(5):\n",
        "    if i == 3:\n",
        "        break\n",
        "    print(i)"
      ],
      "metadata": {
        "colab": {
          "base_uri": "https://localhost:8080/"
        },
        "id": "hG6614-jSbCS",
        "outputId": "602e3fb7-8e5b-4037-ffc1-f315ff108435"
      },
      "execution_count": 6,
      "outputs": [
        {
          "output_type": "stream",
          "name": "stdout",
          "text": [
            "0\n",
            "1\n",
            "2\n"
          ]
        }
      ]
    },
    {
      "cell_type": "code",
      "source": [
        "# continue örneği: 3'e ulaştığında o tekrar işlemini es geçen kod blogudur.\n",
        "for i in range(5):\n",
        "    if i == 3:\n",
        "        continue\n",
        "    print(i)"
      ],
      "metadata": {
        "colab": {
          "base_uri": "https://localhost:8080/"
        },
        "id": "btu7tB0gSfdR",
        "outputId": "eb3402d2-2a4e-4180-9982-e28f6cf15693"
      },
      "execution_count": 7,
      "outputs": [
        {
          "output_type": "stream",
          "name": "stdout",
          "text": [
            "0\n",
            "1\n",
            "2\n",
            "4\n"
          ]
        }
      ]
    },
    {
      "cell_type": "code",
      "source": [
        "# iç içe for döngüsü örneği: 2 boyutlu bir matrisin elemanları üzerinde işlemler\n",
        "matris = [\n",
        "    [1, 2, 3],\n",
        "    [4, 5, 6],\n",
        "    [7, 8, 9]\n",
        "]\n",
        "\n",
        "for x in matris:\n",
        "    for y in x:\n",
        "        print(y)"
      ],
      "metadata": {
        "colab": {
          "base_uri": "https://localhost:8080/"
        },
        "id": "QWR_-UoeSh-6",
        "outputId": "455a5414-8d92-4c62-8433-7e1aa2a83f4f"
      },
      "execution_count": 8,
      "outputs": [
        {
          "output_type": "stream",
          "name": "stdout",
          "text": [
            "1\n",
            "2\n",
            "3\n",
            "4\n",
            "5\n",
            "6\n",
            "7\n",
            "8\n",
            "9\n"
          ]
        }
      ]
    },
    {
      "cell_type": "code",
      "source": [
        "# kullanıcıdan bilgi alınması\n",
        "while True:\n",
        "    try:\n",
        "        gelen_bilgi = int(input(\"Bir sayı girin: \"))\n",
        "        break\n",
        "    except ValueError:\n",
        "        print(\"Lütfen geçerli bir sayı girin!\")\n",
        "\n",
        "# 0'dan kullanıcı tarafından girilen sayıya kadar sıralama yapma\n",
        "i = 0\n",
        "while i <= gelen_bilgi:\n",
        "    print(i)\n",
        "    i += 1"
      ],
      "metadata": {
        "colab": {
          "base_uri": "https://localhost:8080/"
        },
        "id": "upC6f1nWUUJE",
        "outputId": "cd64f745-e46e-4a91-e22d-dfa785bc660b"
      },
      "execution_count": 2,
      "outputs": [
        {
          "output_type": "stream",
          "name": "stdout",
          "text": [
            "Bir sayı girin: fg\n",
            "Lütfen geçerli bir sayı girin!\n",
            "Bir sayı girin: 5\n",
            "0\n",
            "1\n",
            "2\n",
            "3\n",
            "4\n",
            "5\n"
          ]
        }
      ]
    },
    {
      "cell_type": "code",
      "source": [
        "# while döngüsü örneği: kullanıcı bakiye bilgisinin sorgulanması\n",
        "toplam_ucret = 1000\n",
        "while toplam_ucret > 0:\n",
        "    try:\n",
        "        celilen_tutar = int(input(\"Çekmek istediğiniz miktarı girin: \"))\n",
        "        if celilen_tutar > toplam_ucret:\n",
        "            print(\"Yetersiz bakiye!\")\n",
        "            bilgi = input(\"İşleme devam etmek istiyor musunuz? (e/h): \").lower()\n",
        "            if bilgi == \"h\":\n",
        "                print(\"İşlem sonlandırıldı.\")\n",
        "                break\n",
        "        else:\n",
        "            toplam_ucret -= celilen_tutar\n",
        "            print(f\"Kalan bakiye: {toplam_ucret}\")\n",
        "        if toplam_ucret == 0:\n",
        "            print(\"Bakiye tükendi.\")\n",
        "            break\n",
        "    except ValueError:\n",
        "      print(\"Lütfen geçerli bir sayı girin!\")"
      ],
      "metadata": {
        "colab": {
          "base_uri": "https://localhost:8080/"
        },
        "id": "quZnTqs1Ud8t",
        "outputId": "704b8340-55bb-4303-ecd7-58e9f4e88d47"
      },
      "execution_count": 4,
      "outputs": [
        {
          "output_type": "stream",
          "name": "stdout",
          "text": [
            "Çekmek istediğiniz miktarı girin: 5\n",
            "Kalan bakiye: 995\n",
            "Çekmek istediğiniz miktarı girin: 35\n",
            "Kalan bakiye: 960\n",
            "Çekmek istediğiniz miktarı girin: 960\n",
            "Kalan bakiye: 0\n",
            "Bakiye tükendi.\n"
          ]
        }
      ]
    }
  ]
}