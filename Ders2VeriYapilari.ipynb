{
  "nbformat": 4,
  "nbformat_minor": 0,
  "metadata": {
    "colab": {
      "provenance": []
    },
    "kernelspec": {
      "name": "python3",
      "display_name": "Python 3"
    },
    "language_info": {
      "name": "python"
    }
  },
  "cells": [
    {
      "cell_type": "code",
      "execution_count": 1,
      "metadata": {
        "id": "ckseiYnmpPyk"
      },
      "outputs": [],
      "source": [
        "#Geçerli değişken tanımlaması\n",
        "\n",
        "degisken_1 =10\n",
        "Degisken2 = 20\n",
        "_degisken3 = 30"
      ]
    },
    {
      "cell_type": "code",
      "source": [
        "#Degisken tanımlama işlemi\n",
        "\n",
        "x = 5\n",
        "y = \"Merhaba Dünya\"\n",
        "\n",
        "print(x)\n",
        "print(y)"
      ],
      "metadata": {
        "id": "b0jZPqfawbA4"
      },
      "execution_count": null,
      "outputs": []
    },
    {
      "cell_type": "code",
      "source": [
        "#integer - tamsayı tanımlaması\n",
        "\n",
        "a =10\n",
        "print(type(a))"
      ],
      "metadata": {
        "id": "eNu6jgrMw-OR",
        "outputId": "c1055132-e0be-4813-8cb3-8748459dbc4b",
        "colab": {
          "base_uri": "https://localhost:8080/"
        }
      },
      "execution_count": 1,
      "outputs": [
        {
          "output_type": "stream",
          "name": "stdout",
          "text": [
            "<class 'int'>\n"
          ]
        }
      ]
    },
    {
      "cell_type": "code",
      "source": [
        "#Float-ondalık sayı tanımlaması\n",
        "\n",
        "b=20.5\n",
        "print(type(b))"
      ],
      "metadata": {
        "id": "JS465C616ZHP",
        "outputId": "9ff74d69-03a9-454f-8ab8-d4b3f4db55f8",
        "colab": {
          "base_uri": "https://localhost:8080/"
        }
      },
      "execution_count": 2,
      "outputs": [
        {
          "output_type": "stream",
          "name": "stdout",
          "text": [
            "<class 'float'>\n"
          ]
        }
      ]
    },
    {
      "cell_type": "code",
      "source": [
        "#int'den float'a çevrimin gerçekleştirilmesi\n",
        "\n",
        "x = 10\n",
        "y = float(x)\n",
        "print(y,type(y))"
      ],
      "metadata": {
        "id": "7lqMxSnU6tDW",
        "outputId": "2cd0b8d8-ad2b-4b8c-f7e2-41300a3c160d",
        "colab": {
          "base_uri": "https://localhost:8080/"
        }
      },
      "execution_count": 3,
      "outputs": [
        {
          "output_type": "stream",
          "name": "stdout",
          "text": [
            "10.0 <class 'float'>\n"
          ]
        }
      ]
    },
    {
      "cell_type": "code",
      "source": [
        "#float'dan int'e çevrimin gerçekleştirilmesi\n",
        "a = 13.34\n",
        "b = int(a)\n",
        "print(b, type(b))"
      ],
      "metadata": {
        "id": "d2wZmHS17D5_",
        "outputId": "d1fba913-c16c-4a89-cfb3-b5950d23935a",
        "colab": {
          "base_uri": "https://localhost:8080/"
        }
      },
      "execution_count": 4,
      "outputs": [
        {
          "output_type": "stream",
          "name": "stdout",
          "text": [
            "13 <class 'int'>\n"
          ]
        }
      ]
    },
    {
      "cell_type": "code",
      "source": [
        "#String - Metinsel içerik tanımlaması\n",
        "\n",
        "c = \"Python programlma\"\n",
        "print(c)\n",
        "print(type(c))"
      ],
      "metadata": {
        "id": "6p1Oltve7j0X",
        "outputId": "8ab4ecbf-ef11-4eae-a4dd-9d1abb7f47de",
        "colab": {
          "base_uri": "https://localhost:8080/"
        }
      },
      "execution_count": 5,
      "outputs": [
        {
          "output_type": "stream",
          "name": "stdout",
          "text": [
            "Python programlma\n",
            "<class 'str'>\n"
          ]
        }
      ]
    },
    {
      "cell_type": "code",
      "source": [
        "#Boolean(True - False) - Doğru /Yanlış tanımlaması\n",
        "\n",
        "d = True\n",
        "e = False\n",
        "print(d)\n",
        "print(type(e))"
      ],
      "metadata": {
        "id": "PGCIrbiY73LW",
        "outputId": "a834b822-b33e-4f9c-cb78-27c7d6cd498d",
        "colab": {
          "base_uri": "https://localhost:8080/"
        }
      },
      "execution_count": 6,
      "outputs": [
        {
          "output_type": "stream",
          "name": "stdout",
          "text": [
            "True\n",
            "<class 'bool'>\n"
          ]
        }
      ]
    },
    {
      "cell_type": "code",
      "source": [
        "#Liste - Lİste tanımlaması\n",
        "\n",
        "liste = [1,2,3,4,5]\n",
        "print(type(liste))\n",
        "print(liste)"
      ],
      "metadata": {
        "id": "lRUoKwKB8nSn",
        "outputId": "034fe763-0d86-40d2-f40b-7b6554d7cc4d",
        "colab": {
          "base_uri": "https://localhost:8080/"
        }
      },
      "execution_count": 7,
      "outputs": [
        {
          "output_type": "stream",
          "name": "stdout",
          "text": [
            "<class 'list'>\n",
            "[1, 2, 3, 4, 5]\n"
          ]
        }
      ]
    },
    {
      "cell_type": "code",
      "source": [
        "#Tuple - Demet tanımlaması\n",
        "\n",
        "demet = (1,2,3,4)\n",
        "\n",
        "print(type(demet))\n",
        "print(demet)"
      ],
      "metadata": {
        "id": "j0nJLFDk-xfm",
        "outputId": "03d30c81-531e-4dfa-fdc7-88fa4f051430",
        "colab": {
          "base_uri": "https://localhost:8080/"
        }
      },
      "execution_count": 8,
      "outputs": [
        {
          "output_type": "stream",
          "name": "stdout",
          "text": [
            "<class 'tuple'>\n",
            "(1, 2, 3, 4)\n"
          ]
        }
      ]
    },
    {
      "cell_type": "code",
      "source": [
        "#Dictionary - Sözlük Örneği ->\n",
        "\n",
        "notlar = {\n",
        "    \"Ali\" : 85,\n",
        "    \"Veli\" : 90,\n",
        "    \"Ayşe\" : 78\n",
        "}\n",
        "\n",
        "notlar[\"Fatma\"] = 92  #Yeni öğrenci ekleme\n",
        "\n",
        "notlar[\"Ali\"] =88 #Bir öğrencinin notunun güncellenmesi\n",
        "\n",
        "print(notlar)"
      ],
      "metadata": {
        "id": "pjiOOyc0_5Zm",
        "outputId": "98f5ab92-2b06-494b-a7aa-22afd5a60552",
        "colab": {
          "base_uri": "https://localhost:8080/"
        }
      },
      "execution_count": 9,
      "outputs": [
        {
          "output_type": "stream",
          "name": "stdout",
          "text": [
            "{'Ali': 88, 'Veli': 90, 'Ayşe': 78, 'Fatma': 92}\n"
          ]
        }
      ]
    },
    {
      "cell_type": "markdown",
      "source": [
        "Dictionary - Sözlük Nedir?\n",
        "\n",
        " - Sözlükler, anahtar-değer (key-value) çiftlerini depolayan veri yapılarıdır.\n",
        " - Her anahtar benzersizdir ve bir değere karşılık gelir.\n",
        " - Sözlükler sırasızdır ve değiştirilebilir.\n",
        "\n",
        "Sözlük Metotları\n",
        "\n",
        " - keys(): Sözlüğün anahtarlarını döner.\n",
        " - values(): Sözlüğün değerlerini döner.\n",
        " - items(): Sözlüğün anahtar-değer çiftlerini döner."
      ],
      "metadata": {
        "id": "kuSzn4SGAw7G"
      }
    },
    {
      "cell_type": "code",
      "source": [
        "print(notlar.keys())\n",
        "print(notlar.values())\n",
        "print(notlar.items())"
      ],
      "metadata": {
        "id": "1fr5SX95BCG2",
        "outputId": "31f2c677-023c-443b-8ba8-d7048f49e6b5",
        "colab": {
          "base_uri": "https://localhost:8080/"
        }
      },
      "execution_count": 10,
      "outputs": [
        {
          "output_type": "stream",
          "name": "stdout",
          "text": [
            "dict_keys(['Ali', 'Veli', 'Ayşe', 'Fatma'])\n",
            "dict_values([88, 90, 78, 92])\n",
            "dict_items([('Ali', 88), ('Veli', 90), ('Ayşe', 78), ('Fatma', 92)])\n"
          ]
        }
      ]
    },
    {
      "cell_type": "markdown",
      "source": [
        "Set - Küme Nedir?\n",
        "\n",
        " - Kümeler, benzersiz elemanlardan oluşan sırasız koleksiyonlardır.\n",
        " - Kümeler değiştirilebilir ve tekrarlayan eleman içermez.\n",
        "\n",
        "Küme Metotları\n",
        " - add(): Küme içerisine eleman ekler.\n",
        " - remove(): Küme içerisinden eleman siler.\n",
        " - union(): İki kümenin birleşimini döner.\n",
        " - intersection(): İki kümenin kesişimini döner.\n",
        " - difference(): İki kümenin farkını döner."
      ],
      "metadata": {
        "id": "fBdDn17PB0i_"
      }
    },
    {
      "cell_type": "code",
      "source": [
        "#Set - Küme Örneği -> Bir yazılım etkinliğine katılan kişilerin oluşturduğu kümeler\n",
        "kodYazanlar = {\"Ahmet\", \"Mehmet\", \"Ayşe\"}\n",
        "kodYazmayanlar = {\"Ayşe\", \"Fatma\", \"Veli\"}\n",
        "\n",
        "#Kafasına göre takılan öğrenciler\n",
        "ortak = kodYazanlar.intersection(kodYazmayanlar)\n",
        "print(\"Kafasına göre takılan öğrencilerin listesi\", ortak)\n",
        "\n",
        "# Etkinlikte Kod Çalışması Yapmayan Öğrencilerin Tespiti\n",
        "Kod_yazmayan = kodYazmayanlar.difference(kodYazanlar)\n",
        "print(\"Kod çalışması yapmayan öğrenci listesi:\", Kod_yazmayan)\n",
        "\n",
        "# Yazılım Eğitiminin Öğrenci İmza Listesi\n",
        "imza_listesi = kodYazanlar.union(kodYazmayanlar)\n",
        "print(\"Etkinlik katılımcıları:\", imza_listesi)"
      ],
      "metadata": {
        "id": "U-Kry3yZCDcF",
        "outputId": "51bdd707-73f6-43b4-f8e3-0dc71afb0d85",
        "colab": {
          "base_uri": "https://localhost:8080/"
        }
      },
      "execution_count": 1,
      "outputs": [
        {
          "output_type": "stream",
          "name": "stdout",
          "text": [
            "Kafasına göre takılan öğrencilerin listesi {'Ayşe'}\n",
            "Kod çalışması yapmayan öğrenci listesi: {'Fatma', 'Veli'}\n",
            "Etkinlik katılımcıları: {'Ahmet', 'Veli', 'Fatma', 'Mehmet', 'Ayşe'}\n"
          ]
        }
      ]
    },
    {
      "cell_type": "code",
      "source": [
        "giris = input(\"Bir sayi giriniz : \")\n",
        "\n",
        "try:\n",
        "  num = float(giris)\n",
        "  print(f\"Girilen sayı: {num}, tipi: {type(num)},\", abs(num))\n",
        "except ValueError:\n",
        "  print(\"Geçersiz sayı girdiniz\")"
      ],
      "metadata": {
        "id": "SFKEgLWOD-3e",
        "outputId": "1702f331-4aea-409c-9ce4-dbc9fb0f20cd",
        "colab": {
          "base_uri": "https://localhost:8080/"
        }
      },
      "execution_count": 5,
      "outputs": [
        {
          "output_type": "stream",
          "name": "stdout",
          "text": [
            "Bir sayi giriniz : 5\n",
            "Girilen sayı: 5.0, tipi: <class 'float'>, 5.0\n"
          ]
        }
      ]
    }
  ]
}